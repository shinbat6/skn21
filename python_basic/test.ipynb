{
 "cells": [
  {
   "cell_type": "code",
   "execution_count": null,
   "id": "1985a75b",
   "metadata": {},
   "outputs": [
    {
     "data": {
      "text/plain": [
       "2"
      ]
     },
     "execution_count": 6,
     "metadata": {},
     "output_type": "execute_result"
    }
   ],
   "source": [
    "# 실행 : ctrl+Enter, shift+Enter\n",
    "# cell 생성 : a(위), b(아래)\n",
    "1 + 1"
   ]
  },
  {
   "cell_type": "markdown",
   "id": "d099120f",
   "metadata": {},
   "source": [
    "파이썬 코드 실행"
   ]
  }
 ],
 "metadata": {
  "kernelspec": {
   "display_name": "base",
   "language": "python",
   "name": "python3"
  },
  "language_info": {
   "codemirror_mode": {
    "name": "ipython",
    "version": 3
   },
   "file_extension": ".py",
   "mimetype": "text/x-python",
   "name": "python",
   "nbconvert_exporter": "python",
   "pygments_lexer": "ipython3",
   "version": "3.13.5"
  }
 },
 "nbformat": 4,
 "nbformat_minor": 5
}
